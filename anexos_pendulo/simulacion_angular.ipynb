{
 "cells": [
  {
   "cell_type": "markdown",
   "id": "0a495102",
   "metadata": {},
   "source": [
    "## Péndulo Simple\n",
    "El presente documento da al usuario valores de posición y velocidad angular para la simulación de un pédulo simple.   \n",
    "Lo primero será la importación de librerías."
   ]
  },
  {
   "cell_type": "code",
   "execution_count": 29,
   "id": "bf5cebd5",
   "metadata": {},
   "outputs": [],
   "source": [
    "import numpy as np\n",
    "import pandas as pd\n",
    "import matplotlib.pyplot as plt"
   ]
  },
  {
   "cell_type": "code",
   "execution_count": 30,
   "id": "ab48fab8",
   "metadata": {},
   "outputs": [],
   "source": [
    "#Valores invariantes para la caracterización del péndulo\n",
    "longitud = 1. #[m]\n",
    "g = 9.81 #[m/s^2]"
   ]
  },
  {
   "cell_type": "code",
   "execution_count": 31,
   "id": "4506e21b",
   "metadata": {},
   "outputs": [],
   "source": [
    "#condiciones iniciales:\n",
    "#para el ángulo inicial de 6 grados\n",
    "t_6 = 0. #[s]\n",
    "tethai_6 = 0.1 #[m/s]\n",
    "omegai_6 = 0. #[radianes]\n",
    "u_6=np.array([tethai_6,omegai_6])\n",
    "\n",
    "#para el ángulo inicial de 55 grados\n",
    "t_55 = 0. #[s]\n",
    "tethai_55 = -0.96 #[m/s]\n",
    "omegai_55 = 0. #[radianes]\n",
    "u_55=np.array([tethai_55,omegai_55])"
   ]
  },
  {
   "cell_type": "markdown",
   "id": "266595ee",
   "metadata": {},
   "source": [
    "Ahora, se deben de crear los arreglos donde se guardarán todo el registro de datos para el péndulo iniciando los primeros términos con los valores iniciales."
   ]
  },
  {
   "cell_type": "code",
   "execution_count": 40,
   "id": "1a94896b",
   "metadata": {},
   "outputs": [],
   "source": [
    "#arreglos para ángulo inicial de 6 grados\n",
    "tiempo6 = [t_6]\n",
    "tetha6 = [u_6[0]]\n",
    "omega6 = [u_6[1]]\n",
    "#arreglos para ángulo inicial de 55 grados\n",
    "tiempo55 = [t_55]\n",
    "tetha55 = [u_55[0]]\n",
    "omega55 = [u_55[1]]"
   ]
  },
  {
   "cell_type": "markdown",
   "id": "0a01fc1f",
   "metadata": {},
   "source": [
    "La aceleración depende de la longitud del péndulo y del ángulo en cada instante según la ecuación con aproximación para ángulos pequeños:      \n",
    "$$\\alpha = - \\frac{g \\sin(\\theta)}{l} \\approx - \\frac{g \\theta}{l} $$\n",
    "Por lo anterior se crea un función que calcule la aceleración para cada variable mencionada anteriormente."
   ]
  },
  {
   "cell_type": "code",
   "execution_count": 41,
   "id": "c7e5566e",
   "metadata": {},
   "outputs": [],
   "source": [
    "def f(u,t):\n",
    "    return -g*np.sin(u[0])/1"
   ]
  },
  {
   "cell_type": "markdown",
   "id": "5e948462",
   "metadata": {},
   "source": [
    "Se crea otra función que recibe el ángulo y velocidad angular en cada instante de tiempo t para devolver el ángulo que se le ingresó junto con la aceleración del respectivo ángulo."
   ]
  },
  {
   "cell_type": "code",
   "execution_count": 42,
   "id": "08aef246",
   "metadata": {},
   "outputs": [],
   "source": [
    "def F(u,t):\n",
    "    return np.array([u[1],f(u,t)])"
   ]
  },
  {
   "cell_type": "markdown",
   "id": "079a4f9d",
   "metadata": {},
   "source": [
    "También se declaran los valores límites del tiempo para los que se piensa correr el código donde el tiempo final se calculó previmente para que coincidiera con el periodo de un péndulo de longitud de un metro y el incremento del tiempo correspondiente a la razón de 1/30 fotogramas por segundo para comparaciones con pruebas experimentales."
   ]
  },
  {
   "cell_type": "code",
   "execution_count": 43,
   "id": "29a027cf",
   "metadata": {},
   "outputs": [],
   "source": [
    "dt = 0.033\n",
    "tf = 2."
   ]
  },
  {
   "cell_type": "markdown",
   "id": "efa40b07",
   "metadata": {},
   "source": [
    "Finalmente se escribe una función que trabaje un ciclo que:\n",
    "- Pondrá en funcionamiento las funciones creadas.\n",
    "- Tendrá el actualizador de tiempo para ajustar el final del ciclo cuando t llegue al tiempo final.\n",
    "- Guardará todos los resultados obtenidos en cada paso del tiempo en los arreglos creados anteriormente para el registro de datos."
   ]
  },
  {
   "cell_type": "code",
   "execution_count": 50,
   "id": "0ce2d59c",
   "metadata": {},
   "outputs": [],
   "source": [
    "def ciclo(t,u,tetha,omega,tiempo):\n",
    "    while t<tf:\n",
    "        u=u+F(u,t)*dt\n",
    "        t=t+dt\n",
    "        tetha.append(u[0])\n",
    "        omega.append(u[1])\n",
    "        tiempo.append(t)"
   ]
  },
  {
   "cell_type": "code",
   "execution_count": 51,
   "id": "469633e4",
   "metadata": {},
   "outputs": [],
   "source": [
    "ciclo(t_6,u_6,tetha6,omega6,tiempo6)\n",
    "ciclo(t_55,u_55,tetha55,omega55,tiempo55)"
   ]
  },
  {
   "cell_type": "markdown",
   "id": "91091cd2",
   "metadata": {},
   "source": [
    "Finalmente para una mejor apreciación se ilustró la posición angular contra el tiempo para un periodo en los casos teóricos y experimentales de un metro con ángulo inicial de $6^o$ y de dos metros con ángulo inicial de $55^o$"
   ]
  },
  {
   "cell_type": "code",
   "execution_count": 52,
   "id": "570c05a2",
   "metadata": {},
   "outputs": [],
   "source": [
    "excel = 'posicion_angular_experimental.xlsx'\n",
    "datos = pd.read_excel(excel)\n",
    "\n",
    "#Datos para el ángulo de 55 con 1metro\n",
    "t_55 = datos[\"TIEMPO55\"]\n",
    "angulo_55 = datos[\"ANGULO55\"]*np.pi/180\n",
    "\n",
    "#Datos para el ángulo de 6 con 1metro\n",
    "t_6 = datos[\"TIEMPO6\"]\n",
    "angulo_6 = datos[\"ANGULO6\"]*np.pi/180"
   ]
  },
  {
   "cell_type": "code",
   "execution_count": 53,
   "id": "78373ac0",
   "metadata": {},
   "outputs": [
    {
     "data": {
      "text/plain": [
       "Text(0.5, 0, 'Tiempo [s] ')"
      ]
     },
     "execution_count": 53,
     "metadata": {},
     "output_type": "execute_result"
    },
    {
     "data": {
      "image/png": "[encoded data removed]",
      "text/plain": [
       "<Figure size 432x288 with 1 Axes>"
      ]
     },
     "metadata": {
      "needs_background": "light"
     },
     "output_type": "display_data"
    }
   ],
   "source": [
    "plt.figure(1)\n",
    "plt.plot(t_6,angulo_6,\"g.\")\n",
    "plt.plot(tiempo6,tetha6,\"b.\")\n",
    "plt.ylabel(r'$\\theta$ [radianes]')\n",
    "plt.xlabel(\"Tiempo [s] \")"
   ]
  },
  {
   "cell_type": "code",
   "execution_count": 54,
   "id": "6535bf77",
   "metadata": {},
   "outputs": [
    {
     "data": {
      "text/plain": [
       "Text(0.5, 0, 'Tiempo [s] ')"
      ]
     },
     "execution_count": 54,
     "metadata": {},
     "output_type": "execute_result"
    },
    {
     "data": {
      "image/png": "[encoded data removed]",
      "text/plain": [
       "<Figure size 432x288 with 1 Axes>"
      ]
     },
     "metadata": {
      "needs_background": "light"
     },
     "output_type": "display_data"
    }
   ],
   "source": [
    "plt.figure(1)\n",
    "plt.plot(t_55,angulo_55,\"g.\")\n",
    "plt.plot(tiempo55,tetha55,\"r.\")\n",
    "plt.ylabel(r'$\\theta$ [radianes]')\n",
    "plt.xlabel(\"Tiempo [s] \")"
   ]
  }
 ],
 "metadata": {
  "kernelspec": {
   "display_name": "Python 3",
   "language": "python",
   "name": "python3"
  },
  "language_info": {
   "codemirror_mode": {
    "name": "ipython",
    "version": 3
   },
   "file_extension": ".py",
   "mimetype": "text/x-python",
   "name": "python",
   "nbconvert_exporter": "python",
   "pygments_lexer": "ipython3",
   "version": "3.8.8"
  }
 },
 "nbformat": 4,
 "nbformat_minor": 5
}
