{
 "cells": [
  {
   "cell_type": "markdown",
   "id": "2f8d960b",
   "metadata": {},
   "source": [
    "# Importamos librerias \n",
    "El presente documento da los ángulos con errores menores al 3% respecto al seno para un péndulo simple.\n",
    "\n",
    "Primero importamos librerias."
   ]
  },
  {
   "cell_type": "code",
   "execution_count": 1,
   "id": "7a5fa635",
   "metadata": {},
   "outputs": [],
   "source": [
    "import numpy as np\n",
    "import math as mt"
   ]
  },
  {
   "cell_type": "markdown",
   "id": "f20a9f8f",
   "metadata": {},
   "source": [
    "Valores fijos que necesitaremos para hallar los ángulos."
   ]
  },
  {
   "cell_type": "code",
   "execution_count": 2,
   "id": "6df6b176",
   "metadata": {},
   "outputs": [],
   "source": [
    "theta=0.01\n",
    "T=0\n",
    "v=[]\n",
    "a=0"
   ]
  },
  {
   "cell_type": "markdown",
   "id": "e67ef259",
   "metadata": {},
   "source": [
    "Creamos una función utilizando el ciclo 'for' "
   ]
  },
  {
   "cell_type": "code",
   "execution_count": 3,
   "id": "e40a7be8",
   "metadata": {},
   "outputs": [
    {
     "name": "stdout",
     "output_type": "stream",
     "text": [
      " '0.9999833334166665' '0.01' '0.5729577951308232' '0.0016666583333546647%'\n",
      " '0.9994001079907433' '0.060000000000000005' '3.4377467707849396' '0.05998920092566973%'\n",
      " '0.9979845530652256' '0.11000000000000001' '6.302535746439057' '0.20154469347744008%'\n",
      " '0.9957387913390373' '0.16000000000000003' '9.167324722093174' '0.426120866096269%'\n",
      " '0.9926661897433312' '0.21000000000000002' '12.03211369774729' '0.7333810256668793%'\n",
      " '0.9887713534313658' '0.26' '14.896902673401405' '1.1228646568634204%'\n",
      " '0.9840601175594952' '0.31' '17.761691649055518' '1.5939882440504816%'\n",
      " '0.9785395368752499' '0.36' '20.626480624709636' '2.146046312475014%'\n",
      " '0.9722178731327388' '0.41' '23.49126960036375' '2.7782126867261225%'\n"
     ]
    }
   ],
   "source": [
    "for i in range (0,10,1):\n",
    "    a = mt.sin(theta)/theta\n",
    "    e=1-a #error\n",
    "    por= e*100 #Porcentaje de error\n",
    "    if(0.97<= a<=1): #como se requiere un error máximo de 3% concluimos que el valor debe estar entre 0.97 y 1\n",
    "            T=(theta*180)/np.pi #Convertimos de radianes a grados\n",
    "            print(\" '{}' '{}' '{}' '{}%'\".format(a,theta,T,por))\n",
    "            v.append(theta) #creamos como resultado una lista \n",
    "    theta+=0.05 "
   ]
  },
  {
   "cell_type": "code",
   "execution_count": null,
   "id": "b3cdb7b7",
   "metadata": {},
   "outputs": [],
   "source": []
  },
  {
   "cell_type": "code",
   "execution_count": null,
   "id": "d069e87c",
   "metadata": {},
   "outputs": [],
   "source": []
  }
 ],
 "metadata": {
  "kernelspec": {
   "display_name": "Python 3",
   "language": "python",
   "name": "python3"
  },
  "language_info": {
   "codemirror_mode": {
    "name": "ipython",
    "version": 3
   },
   "file_extension": ".py",
   "mimetype": "text/x-python",
   "name": "python",
   "nbconvert_exporter": "python",
   "pygments_lexer": "ipython3",
   "version": "3.8.8"
  }
 },
 "nbformat": 4,
 "nbformat_minor": 5
}
